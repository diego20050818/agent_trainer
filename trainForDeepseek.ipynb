{
 "cells": [
  {
   "cell_type": "code",
   "execution_count": 39,
   "id": "0be1556c",
   "metadata": {},
   "outputs": [],
   "source": [
    "from datasets import Dataset\n",
    "import pandas as pd\n",
    "from transformers import AutoTokenizer, AutoModelForCausalLM, DataCollatorForSeq2Seq, TrainingArguments, Trainer, GenerationConfig"
   ]
  },
  {
   "cell_type": "code",
   "execution_count": 40,
   "id": "8b4ea350",
   "metadata": {},
   "outputs": [
    {
     "data": {
      "text/plain": [
       "Dataset({\n",
       "    features: ['电器', '控制', '参数', '用户指令', '调优思维链', '调优模型输出'],\n",
       "    num_rows: 467\n",
       "})"
      ]
     },
     "execution_count": 40,
     "metadata": {},
     "output_type": "execute_result"
    }
   ],
   "source": [
    "with open(\"dataset/副本智能电器控制分类数据20250328.csv\",'r') as f:\n",
    "    dataset = pd.read_csv(f)\n",
    "dataset = Dataset.from_pandas(dataset)\n",
    "dataset"
   ]
  },
  {
   "cell_type": "code",
   "execution_count": 41,
   "id": "cdd2ecad",
   "metadata": {},
   "outputs": [
    {
     "data": {
      "text/plain": [
       "{'file_load': {'model_path': '/home/liangshuqiao/models/DeepSeek-R1-Distill-Qwen-7B', 'dataset_path': 'dataset/chat_expanded_new_resampled.csv', 'eval_dataset_path': 'dataset/meituan_data_clean_final.csv', 'test_size': 0.2, 'split_way': 'train', 'save_model_path': '/home/liangshuqiao/agent_source/model_outputs/Qwen3', 'gguf_path': 'model_output/qwen2_14b_all_lora_gguf', 'logging_path': 'trainlog', 'shuffle': True}, 'training_arg': {'dtype': 'torch.float16', 'load_in_4bit': True, 'batch_size': 16, 'gradient_accumulator_steps': 1, 'warmup_steps': 0, 'epoch': 100, 'eval_steps': 10, 'learning_rate': 1e-05, 'lr_scheduler_type': 'cosine', 'max_seq_length': 512, 'use_history': False, 'r': 8, 'target_modules': ['q_proj', 'k_proj', 'v_proj', 'o_proj', 'gate_proj', 'up_proj', 'down_proj'], 'lora_alpha': 16, 'lora_dropout': 0.1, 'bias': 'none', 'use_gradient_checkpointing': 'unsloth', 'random_state': 3407, 'use_rslora': True, 'loftq_config': 'None'}, 'alpaca_prompt': '\"\"\"\\n\\n###instruction\\n{}\\n###conversation_history\\n{}\\n###customer_input\\n用户：{}\\n###service_output\\n客服：{}\\n\"\"\"\\n', 'qwen_prompt': '\"\"\"\\n<|im_start|>system:\\n{}<|im_end|>\\n<|im_start|>user:\\n{}<|im_end|>\\n<|im_start|>assistant:\\n{}<|im_end|>\\n\"\"\"\\n', 'qwen_prompt_output': '\"\"\"\\n<|im_start|>system:\\n{}<|im_end|>\\n<|im_start|>histroy:\\n{}<|im_end|>\\n<|im_start|>user:\\n{}<|im_end|>\\n\"\"\"\\n', 'test_list': ['明天的热玛吉还有位置吗', '你们的医生有经过认证吗', '我明天没空，帮我把明天的瘦脸延后到明天', '你们服务态度怎么这样，我要投诉你们了', '额我做完手术之后脸有点疼还有点胀胀的怎么回事', '这个热玛吉最近有优惠吗', '我要人工客服，给我转接人工客服', '今天天气怎么样？']}"
      ]
     },
     "execution_count": 41,
     "metadata": {},
     "output_type": "execute_result"
    }
   ],
   "source": [
    "from loguru import logger\n",
    "from ruamel.yaml import YAML\n",
    "from rich import print as rprint\n",
    "\n",
    "yaml = YAML()\n",
    "with open('config.yaml', 'r') as f:\n",
    "    config = yaml.load(f)\n",
    "config"
   ]
  },
  {
   "cell_type": "code",
   "execution_count": 42,
   "id": "ad9787da",
   "metadata": {},
   "outputs": [
    {
     "data": {
      "text/plain": [
       "LlamaTokenizerFast(name_or_path='/home/liangshuqiao/models/DeepSeek-R1-Distill-Qwen-7B', vocab_size=151643, model_max_length=16384, is_fast=True, padding_side='right', truncation_side='right', special_tokens={'bos_token': '<｜begin▁of▁sentence｜>', 'eos_token': '<｜end▁of▁sentence｜>', 'pad_token': '<｜end▁of▁sentence｜>'}, clean_up_tokenization_spaces=False, added_tokens_decoder={\n",
       "\t151643: AddedToken(\"<｜end▁of▁sentence｜>\", rstrip=False, lstrip=False, single_word=False, normalized=False, special=True),\n",
       "\t151644: AddedToken(\"<｜User｜>\", rstrip=False, lstrip=False, single_word=False, normalized=False, special=False),\n",
       "\t151645: AddedToken(\"<｜Assistant｜>\", rstrip=False, lstrip=False, single_word=False, normalized=False, special=False),\n",
       "\t151646: AddedToken(\"<｜begin▁of▁sentence｜>\", rstrip=False, lstrip=False, single_word=False, normalized=False, special=True),\n",
       "\t151647: AddedToken(\"<|EOT|>\", rstrip=False, lstrip=False, single_word=False, normalized=False, special=False),\n",
       "\t151648: AddedToken(\"<think>\", rstrip=False, lstrip=False, single_word=False, normalized=False, special=False),\n",
       "\t151649: AddedToken(\"</think>\", rstrip=False, lstrip=False, single_word=False, normalized=False, special=False),\n",
       "\t151650: AddedToken(\"<|quad_start|>\", rstrip=False, lstrip=False, single_word=False, normalized=False, special=True),\n",
       "\t151651: AddedToken(\"<|quad_end|>\", rstrip=False, lstrip=False, single_word=False, normalized=False, special=True),\n",
       "\t151652: AddedToken(\"<|vision_start|>\", rstrip=False, lstrip=False, single_word=False, normalized=False, special=True),\n",
       "\t151653: AddedToken(\"<|vision_end|>\", rstrip=False, lstrip=False, single_word=False, normalized=False, special=True),\n",
       "\t151654: AddedToken(\"<|vision_pad|>\", rstrip=False, lstrip=False, single_word=False, normalized=False, special=True),\n",
       "\t151655: AddedToken(\"<|image_pad|>\", rstrip=False, lstrip=False, single_word=False, normalized=False, special=True),\n",
       "\t151656: AddedToken(\"<|video_pad|>\", rstrip=False, lstrip=False, single_word=False, normalized=False, special=True),\n",
       "\t151657: AddedToken(\"<tool_call>\", rstrip=False, lstrip=False, single_word=False, normalized=False, special=False),\n",
       "\t151658: AddedToken(\"</tool_call>\", rstrip=False, lstrip=False, single_word=False, normalized=False, special=False),\n",
       "\t151659: AddedToken(\"<|fim_prefix|>\", rstrip=False, lstrip=False, single_word=False, normalized=False, special=False),\n",
       "\t151660: AddedToken(\"<|fim_middle|>\", rstrip=False, lstrip=False, single_word=False, normalized=False, special=False),\n",
       "\t151661: AddedToken(\"<|fim_suffix|>\", rstrip=False, lstrip=False, single_word=False, normalized=False, special=False),\n",
       "\t151662: AddedToken(\"<|fim_pad|>\", rstrip=False, lstrip=False, single_word=False, normalized=False, special=False),\n",
       "\t151663: AddedToken(\"<|repo_name|>\", rstrip=False, lstrip=False, single_word=False, normalized=False, special=False),\n",
       "\t151664: AddedToken(\"<|file_sep|>\", rstrip=False, lstrip=False, single_word=False, normalized=False, special=False),\n",
       "}\n",
       ")"
      ]
     },
     "execution_count": 42,
     "metadata": {},
     "output_type": "execute_result"
    }
   ],
   "source": [
    "tokenizer = AutoTokenizer.from_pretrained(config['file_load']['model_path'],use_fast=False,trust_remote_code=False)\n",
    "tokenizer.padding_side = 'right'\n",
    "tokenizer"
   ]
  },
  {
   "cell_type": "code",
   "execution_count": null,
   "id": "6cce0bd0",
   "metadata": {},
   "outputs": [
    {
     "data": {
      "text/plain": [
       "'<｜end▁of▁sentence｜>'"
      ]
     },
     "execution_count": 61,
     "metadata": {},
     "output_type": "execute_result"
    }
   ],
   "source": [
    "EOS = tokenizer.eos_token\n",
    "EOS"
   ]
  },
  {
   "cell_type": "code",
   "execution_count": 44,
   "id": "1cd0f7d9",
   "metadata": {},
   "outputs": [],
   "source": [
    "EOS_TOKEN = tokenizer.eos_token_id\n",
    "BOS_TOKEN = tokenizer.bos_token_id\n",
    "\n",
    "prompt = \"\"\"\n",
    "<|im_start|>你是一个智能家居助手，你根据用户的输入和当前控制的电器信息使用control()函数控制电器。<|im_end|>\n",
    "<|im_start|>\n",
    "用户指令：{}<|im_end|>\n",
    "\n",
    "<|im_start|>助手思考（请根据用户输入分析需要执行的操作）：\n",
    "<think>\n",
    "{}\n",
    "分析结果：\n",
    "设备：{}\n",
    "目标状态：{}\n",
    "参数：{}\n",
    "</think><|im_end|>\n",
    "\n",
    "<|im_start|>助手操作（请直接输出control()函数调用，不要包含其他内容）：\n",
    "{}<|im_end|>\n",
    "\"\"\""
   ]
  },
  {
   "cell_type": "code",
   "execution_count": 45,
   "id": "241f2c04",
   "metadata": {},
   "outputs": [
    {
     "data": {
      "text/plain": [
       "151643"
      ]
     },
     "execution_count": 45,
     "metadata": {},
     "output_type": "execute_result"
    }
   ],
   "source": [
    "tokenizer.pad_token_id"
   ]
  },
  {
   "cell_type": "code",
   "execution_count": 46,
   "id": "68f95a14",
   "metadata": {},
   "outputs": [],
   "source": [
    "def process_func(example):\n",
    "    device = example['电器']\n",
    "    control = example['控制']\n",
    "    argument = example['参数']\n",
    "    instruction = example['用户指令']\n",
    "    think_chain = example['调优思维链']\n",
    "    output = example['调优模型输出']\n",
    "\n",
    "    MAX_LENGTH = 512\n",
    "    input_ids,attention_mask,labels = [],[],[]\n",
    "    sample = prompt.format(instruction,think_chain,device,control,argument,output)\n",
    "    sample_token = tokenizer(sample,add_special_tokens=False)\n",
    "    input_ids = sample_token['input_ids'] + [tokenizer.pad_token_id]\n",
    "    attention_mask = sample_token['attention_mask'] + [1]\n",
    "\n",
    "    # 修复 labels 的生成逻辑，确保与 input_ids 长度一致\n",
    "    labels = sample_token['input_ids'] + [tokenizer.pad_token_id]\n",
    "\n",
    "    if len(input_ids) > MAX_LENGTH:\n",
    "        input_ids = input_ids[:MAX_LENGTH]\n",
    "        attention_mask = attention_mask[:MAX_LENGTH]\n",
    "        labels = labels[:MAX_LENGTH]\n",
    "\n",
    "    return {\n",
    "        \"input_ids\": input_ids,\n",
    "        \"attention_mask\": attention_mask,\n",
    "        \"labels\": labels\n",
    "    }"
   ]
  },
  {
   "cell_type": "code",
   "execution_count": 47,
   "id": "194d41d1",
   "metadata": {},
   "outputs": [
    {
     "data": {
      "text/plain": [
       "Dataset({\n",
       "    features: ['电器', '控制', '参数', '用户指令', '调优思维链', '调优模型输出'],\n",
       "    num_rows: 467\n",
       "})"
      ]
     },
     "execution_count": 47,
     "metadata": {},
     "output_type": "execute_result"
    }
   ],
   "source": [
    "dataset"
   ]
  },
  {
   "cell_type": "code",
   "execution_count": 48,
   "id": "77660fa9",
   "metadata": {},
   "outputs": [
    {
     "name": "stderr",
     "output_type": "stream",
     "text": [
      "Map: 100%|██████████| 467/467 [00:00<00:00, 1184.60 examples/s]\n"
     ]
    },
    {
     "data": {
      "text/plain": [
       "'\\n<|im_start|>你是一个智能家居助手，你根据用户的输入和当前控制的电器信息使用control()函数控制电器。<|im_end|>\\n<|im_start|>\\n用户指令：打开灯<|im_end|>\\n\\n<|im_start|>助手思考（请根据用户输入分析需要执行的操作）：\\n<think>\\n用户明确指令开启特定区域灯光。依据任务，直接执行对应设备操作。设备是客厅灯，动作为\"开启\"，参数无\\n分析结果：\\n设备：灯\\n目标状态：开启\\n参数：无\\n</think><|im_end|>\\n\\n<|im_start|>助手操作（请直接输出control()函数调用，不要包含其他内容）：\\ncontrol(客厅灯,开启,无)<|im_end|>\\n<｜end▁of▁sentence｜>'"
      ]
     },
     "execution_count": 48,
     "metadata": {},
     "output_type": "execute_result"
    }
   ],
   "source": [
    "dataset = dataset.map(process_func,remove_columns=['电器', '控制', '参数', '用户指令', '调优思维链', '调优模型输出'])\n",
    "tokenizer.decode(dataset[:1]['input_ids'][0])"
   ]
  },
  {
   "cell_type": "code",
   "execution_count": 49,
   "id": "eb2b4341",
   "metadata": {},
   "outputs": [
    {
     "name": "stdout",
     "output_type": "stream",
     "text": [
      "/home/liangshuqiao/models/DeepSeek-R1-Distill-Qwen-7B\n"
     ]
    },
    {
     "name": "stderr",
     "output_type": "stream",
     "text": [
      "Loading checkpoint shards: 100%|██████████| 2/2 [00:00<00:00, 24.76it/s]\n"
     ]
    },
    {
     "data": {
      "text/plain": [
       "Qwen2ForCausalLM(\n",
       "  (model): Qwen2Model(\n",
       "    (embed_tokens): Embedding(152064, 3584)\n",
       "    (layers): ModuleList(\n",
       "      (0-27): 28 x Qwen2DecoderLayer(\n",
       "        (self_attn): Qwen2Attention(\n",
       "          (q_proj): Linear(in_features=3584, out_features=3584, bias=True)\n",
       "          (k_proj): Linear(in_features=3584, out_features=512, bias=True)\n",
       "          (v_proj): Linear(in_features=3584, out_features=512, bias=True)\n",
       "          (o_proj): Linear(in_features=3584, out_features=3584, bias=False)\n",
       "        )\n",
       "        (mlp): Qwen2MLP(\n",
       "          (gate_proj): Linear(in_features=3584, out_features=18944, bias=False)\n",
       "          (up_proj): Linear(in_features=3584, out_features=18944, bias=False)\n",
       "          (down_proj): Linear(in_features=18944, out_features=3584, bias=False)\n",
       "          (act_fn): SiLU()\n",
       "        )\n",
       "        (input_layernorm): Qwen2RMSNorm((3584,), eps=1e-06)\n",
       "        (post_attention_layernorm): Qwen2RMSNorm((3584,), eps=1e-06)\n",
       "      )\n",
       "    )\n",
       "    (norm): Qwen2RMSNorm((3584,), eps=1e-06)\n",
       "    (rotary_emb): Qwen2RotaryEmbedding()\n",
       "  )\n",
       "  (lm_head): Linear(in_features=3584, out_features=152064, bias=False)\n",
       ")"
      ]
     },
     "execution_count": 49,
     "metadata": {},
     "output_type": "execute_result"
    }
   ],
   "source": [
    "import torch\n",
    "\n",
    "print(config['file_load']['model_path'])\n",
    "model = AutoModelForCausalLM.from_pretrained(\n",
    "                                    config['file_load']['model_path'],\n",
    "                                    trust_remote_code=False,\n",
    "                                    torch_dtype=torch.bfloat16,\n",
    "                                    device_map=None,\n",
    "                                    low_cpu_mem_usage=True)\n",
    "model.generation_config = GenerationConfig.from_pretrained(config['file_load']['model_path'])\n",
    "model.generation_config.pad_token_id = model.generation_config.eos_token_id\n",
    "model"
   ]
  },
  {
   "cell_type": "code",
   "execution_count": 50,
   "id": "26e2afb6",
   "metadata": {},
   "outputs": [
    {
     "data": {
      "text/plain": [
       "torch.bfloat16"
      ]
     },
     "execution_count": 50,
     "metadata": {},
     "output_type": "execute_result"
    }
   ],
   "source": [
    "model.enable_input_require_grads()\n",
    "model.dtype"
   ]
  },
  {
   "cell_type": "code",
   "execution_count": 51,
   "id": "3f6a22b5",
   "metadata": {},
   "outputs": [
    {
     "data": {
      "text/plain": [
       "LoraConfig(task_type=<TaskType.CAUSAL_LM: 'CAUSAL_LM'>, peft_type=<PeftType.LORA: 'LORA'>, auto_mapping=None, base_model_name_or_path=None, revision=None, inference_mode=False, r=8, target_modules={'k_proj', 'o_proj', 'gate_proj', 'down_proj', 'q_proj', 'v_proj', 'up_proj'}, exclude_modules=None, lora_alpha=32, lora_dropout=0.1, fan_in_fan_out=False, bias='none', use_rslora=False, modules_to_save=None, init_lora_weights=True, layers_to_transform=None, layers_pattern=None, rank_pattern={}, alpha_pattern={}, megatron_config=None, megatron_core='megatron.core', loftq_config={}, eva_config=None, use_dora=False, layer_replication=None, runtime_config=LoraRuntimeConfig(ephemeral_gpu_offload=False), lora_bias=False)"
      ]
     },
     "execution_count": 51,
     "metadata": {},
     "output_type": "execute_result"
    }
   ],
   "source": [
    "from peft import LoraConfig, TaskType, get_peft_model\n",
    "\n",
    "config = LoraConfig(\n",
    "    task_type=TaskType.CAUSAL_LM, \n",
    "    target_modules=[\"q_proj\", \"k_proj\", \"v_proj\", \"o_proj\", \"gate_proj\", \"up_proj\", \"down_proj\"],\n",
    "    inference_mode=False, # 训练模式\n",
    "    r=8, # Lora 秩\n",
    "    lora_alpha=32, # Lora alaph，具体作用参见 Lora 原理\n",
    "    lora_dropout=0.1# Dropout 比例\n",
    ")\n",
    "config"
   ]
  },
  {
   "cell_type": "code",
   "execution_count": 52,
   "id": "2ec1d43f",
   "metadata": {},
   "outputs": [
    {
     "data": {
      "text/plain": [
       "LoraConfig(task_type=<TaskType.CAUSAL_LM: 'CAUSAL_LM'>, peft_type=<PeftType.LORA: 'LORA'>, auto_mapping=None, base_model_name_or_path='/home/liangshuqiao/models/DeepSeek-R1-Distill-Qwen-7B', revision=None, inference_mode=False, r=8, target_modules={'k_proj', 'o_proj', 'gate_proj', 'down_proj', 'q_proj', 'v_proj', 'up_proj'}, exclude_modules=None, lora_alpha=32, lora_dropout=0.1, fan_in_fan_out=False, bias='none', use_rslora=False, modules_to_save=None, init_lora_weights=True, layers_to_transform=None, layers_pattern=None, rank_pattern={}, alpha_pattern={}, megatron_config=None, megatron_core='megatron.core', loftq_config={}, eva_config=None, use_dora=False, layer_replication=None, runtime_config=LoraRuntimeConfig(ephemeral_gpu_offload=False), lora_bias=False)"
      ]
     },
     "execution_count": 52,
     "metadata": {},
     "output_type": "execute_result"
    }
   ],
   "source": [
    "model = get_peft_model(model, config)\n",
    "config"
   ]
  },
  {
   "cell_type": "code",
   "execution_count": 53,
   "id": "60025c5d",
   "metadata": {},
   "outputs": [
    {
     "name": "stdout",
     "output_type": "stream",
     "text": [
      "trainable params: 20,185,088 || all params: 7,635,801,600 || trainable%: 0.2643\n"
     ]
    }
   ],
   "source": [
    "model.print_trainable_parameters()"
   ]
  },
  {
   "cell_type": "code",
   "execution_count": 54,
   "id": "8486a97c",
   "metadata": {},
   "outputs": [],
   "source": [
    "args = TrainingArguments(\n",
    "    output_dir=\"./output/DeepSeek\",\n",
    "    per_device_train_batch_size=4,\n",
    "    gradient_accumulation_steps=2,\n",
    "    logging_steps=5,\n",
    "    num_train_epochs=3,\n",
    "    save_steps=100,\n",
    "    learning_rate=1e-4,\n",
    "    save_on_each_node=True,\n",
    "    gradient_checkpointing=True,\n",
    "    # 添加这些参数以避免meta tensor问题\n",
    "    remove_unused_columns=True,\n",
    "    dataloader_pin_memory=False,  # 添加这个参数\n",
    ")"
   ]
  },
  {
   "cell_type": "code",
   "execution_count": 55,
   "id": "9b70c968",
   "metadata": {},
   "outputs": [
    {
     "name": "stderr",
     "output_type": "stream",
     "text": [
      "No label_names provided for model class `PeftModelForCausalLM`. Since `PeftModel` hides base models input arguments, if label_names is not given, label_names can't be set automatically within `Trainer`. Note that empty label_names list will be used instead.\n"
     ]
    }
   ],
   "source": [
    "trainer = Trainer(\n",
    "    model=model,\n",
    "    args=args,\n",
    "    train_dataset=dataset,\n",
    "    data_collator=DataCollatorForSeq2Seq(tokenizer=tokenizer, padding=True),\n",
    ")"
   ]
  },
  {
   "cell_type": "code",
   "execution_count": 56,
   "id": "cb750acb",
   "metadata": {},
   "outputs": [
    {
     "name": "stderr",
     "output_type": "stream",
     "text": [
      "`use_cache=True` is incompatible with gradient checkpointing. Setting `use_cache=False`.\n"
     ]
    },
    {
     "data": {
      "text/html": [
       "\n",
       "    <div>\n",
       "      \n",
       "      <progress value='174' max='174' style='width:300px; height:20px; vertical-align: middle;'></progress>\n",
       "      [174/174 27:15, Epoch 2/3]\n",
       "    </div>\n",
       "    <table border=\"1\" class=\"dataframe\">\n",
       "  <thead>\n",
       " <tr style=\"text-align: left;\">\n",
       "      <th>Step</th>\n",
       "      <th>Training Loss</th>\n",
       "    </tr>\n",
       "  </thead>\n",
       "  <tbody>\n",
       "    <tr>\n",
       "      <td>5</td>\n",
       "      <td>3.247300</td>\n",
       "    </tr>\n",
       "    <tr>\n",
       "      <td>10</td>\n",
       "      <td>2.103100</td>\n",
       "    </tr>\n",
       "    <tr>\n",
       "      <td>15</td>\n",
       "      <td>1.308900</td>\n",
       "    </tr>\n",
       "    <tr>\n",
       "      <td>20</td>\n",
       "      <td>0.888000</td>\n",
       "    </tr>\n",
       "    <tr>\n",
       "      <td>25</td>\n",
       "      <td>0.680400</td>\n",
       "    </tr>\n",
       "    <tr>\n",
       "      <td>30</td>\n",
       "      <td>0.593400</td>\n",
       "    </tr>\n",
       "    <tr>\n",
       "      <td>35</td>\n",
       "      <td>0.456800</td>\n",
       "    </tr>\n",
       "    <tr>\n",
       "      <td>40</td>\n",
       "      <td>0.443500</td>\n",
       "    </tr>\n",
       "    <tr>\n",
       "      <td>45</td>\n",
       "      <td>0.410200</td>\n",
       "    </tr>\n",
       "    <tr>\n",
       "      <td>50</td>\n",
       "      <td>0.472500</td>\n",
       "    </tr>\n",
       "    <tr>\n",
       "      <td>55</td>\n",
       "      <td>0.409400</td>\n",
       "    </tr>\n",
       "    <tr>\n",
       "      <td>60</td>\n",
       "      <td>0.364200</td>\n",
       "    </tr>\n",
       "    <tr>\n",
       "      <td>65</td>\n",
       "      <td>0.380000</td>\n",
       "    </tr>\n",
       "    <tr>\n",
       "      <td>70</td>\n",
       "      <td>0.354300</td>\n",
       "    </tr>\n",
       "    <tr>\n",
       "      <td>75</td>\n",
       "      <td>0.306700</td>\n",
       "    </tr>\n",
       "    <tr>\n",
       "      <td>80</td>\n",
       "      <td>0.329600</td>\n",
       "    </tr>\n",
       "    <tr>\n",
       "      <td>85</td>\n",
       "      <td>0.322300</td>\n",
       "    </tr>\n",
       "    <tr>\n",
       "      <td>90</td>\n",
       "      <td>0.325400</td>\n",
       "    </tr>\n",
       "    <tr>\n",
       "      <td>95</td>\n",
       "      <td>0.280200</td>\n",
       "    </tr>\n",
       "    <tr>\n",
       "      <td>100</td>\n",
       "      <td>0.337700</td>\n",
       "    </tr>\n",
       "    <tr>\n",
       "      <td>105</td>\n",
       "      <td>0.331300</td>\n",
       "    </tr>\n",
       "    <tr>\n",
       "      <td>110</td>\n",
       "      <td>0.297400</td>\n",
       "    </tr>\n",
       "    <tr>\n",
       "      <td>115</td>\n",
       "      <td>0.291500</td>\n",
       "    </tr>\n",
       "    <tr>\n",
       "      <td>120</td>\n",
       "      <td>0.289600</td>\n",
       "    </tr>\n",
       "    <tr>\n",
       "      <td>125</td>\n",
       "      <td>0.258600</td>\n",
       "    </tr>\n",
       "    <tr>\n",
       "      <td>130</td>\n",
       "      <td>0.270300</td>\n",
       "    </tr>\n",
       "    <tr>\n",
       "      <td>135</td>\n",
       "      <td>0.276100</td>\n",
       "    </tr>\n",
       "    <tr>\n",
       "      <td>140</td>\n",
       "      <td>0.234300</td>\n",
       "    </tr>\n",
       "    <tr>\n",
       "      <td>145</td>\n",
       "      <td>0.232100</td>\n",
       "    </tr>\n",
       "    <tr>\n",
       "      <td>150</td>\n",
       "      <td>0.283700</td>\n",
       "    </tr>\n",
       "    <tr>\n",
       "      <td>155</td>\n",
       "      <td>0.270200</td>\n",
       "    </tr>\n",
       "    <tr>\n",
       "      <td>160</td>\n",
       "      <td>0.239800</td>\n",
       "    </tr>\n",
       "    <tr>\n",
       "      <td>165</td>\n",
       "      <td>0.236800</td>\n",
       "    </tr>\n",
       "    <tr>\n",
       "      <td>170</td>\n",
       "      <td>0.261500</td>\n",
       "    </tr>\n",
       "  </tbody>\n",
       "</table><p>"
      ],
      "text/plain": [
       "<IPython.core.display.HTML object>"
      ]
     },
     "metadata": {},
     "output_type": "display_data"
    },
    {
     "data": {
      "text/plain": [
       "TrainOutput(global_step=174, training_loss=0.5162602484911337, metrics={'train_runtime': 1648.5557, 'train_samples_per_second': 0.85, 'train_steps_per_second': 0.106, 'total_flos': 1.3313254381120512e+16, 'train_loss': 0.5162602484911337, 'epoch': 2.9572649572649574})"
      ]
     },
     "execution_count": 56,
     "metadata": {},
     "output_type": "execute_result"
    }
   ],
   "source": [
    "trainer.train()"
   ]
  },
  {
   "cell_type": "code",
   "execution_count": 57,
   "id": "c7ed9d9d",
   "metadata": {},
   "outputs": [],
   "source": [
    "\n",
    "torch.cuda.empty_cache()\n",
    "torch.clear_autocast_cache()"
   ]
  },
  {
   "cell_type": "code",
   "execution_count": 58,
   "id": "d0b28308",
   "metadata": {},
   "outputs": [
    {
     "name": "stderr",
     "output_type": "stream",
     "text": [
      "Loading checkpoint shards: 100%|██████████| 2/2 [00:03<00:00,  1.56s/it]\n",
      "Some parameters are on the meta device because they were offloaded to the cpu.\n",
      "Some parameters are on the meta device because they were offloaded to the cpu.\n"
     ]
    }
   ],
   "source": [
    "from transformers import AutoModelForCausalLM, AutoTokenizer\n",
    "import torch\n",
    "from peft import PeftModel\n",
    "import time\n",
    "import tqdm\n",
    "\n",
    "mode_path = \"/home/liangshuqiao/models/DeepSeek-R1-Distill-Qwen-7B\"\n",
    "lora_path = \"output/DeepSeek/checkpoint-87\" # lora 输出对应 checkpoint 地址\n",
    "\n",
    "# 加载tokenizer\n",
    "tokenizer = AutoTokenizer.from_pretrained(mode_path)\n",
    "\n",
    "# 加载模型\n",
    "model = AutoModelForCausalLM.from_pretrained(mode_path, device_map=\"auto\",torch_dtype=torch.bfloat16, trust_remote_code=True).eval()\n",
    "\n",
    "# 加载lora权重\n",
    "model = PeftModel.from_pretrained(model, model_id=lora_path)"
   ]
  },
  {
   "cell_type": "code",
   "execution_count": 59,
   "id": "9b53ec40",
   "metadata": {},
   "outputs": [
    {
     "name": "stderr",
     "output_type": "stream",
     "text": [
      "Setting `pad_token_id` to `eos_token_id`:151643 for open-end generation.\n"
     ]
    },
    {
     "name": "stdout",
     "output_type": "stream",
     "text": [
      "[{'role': 'system', 'content': '\\n你是一个智能家居助手，你根据用户的输入和当前控制的电器信息分析设备，目标状态和参数并直接输出control()函数控制电器\\n如果用户没有具体指定电气可以根据语义推断\\n只需要输出control（）函数即可\\n'}, {'role': 'user', 'content': '用户指令:设置灯光色温为5000w'}]\n",
      "\n",
      "用户输入:\n",
      "用户指令:设置灯光色温为5000w\n",
      "\n",
      "\n",
      "模型输出:<think>\n",
      "用户明确要求设置灯光色温为5000w，直接推断对lights设备执行设置目标状态。参数是“color_temp=5000”，设备是lights，参数无其他内容。\n",
      "分析结果：\n",
      "设备：lights\n",
      "目标状态：color_temp=5000\n",
      "参数：无\n",
      "</think>control(lights, color_temp=5000)\n",
      "\n"
     ]
    }
   ],
   "source": [
    "\n",
    "# 定义输入模板\n",
    "input_prompt = \"\"\"\n",
    "你是一个智能家居助手，你根据用户的输入和当前控制的电器信息分析设备，目标状态和参数并直接输出control()函数控制电器\n",
    "如果用户没有具体指定电气可以根据语义推断\n",
    "只需要输出control（）函数即可\n",
    "\"\"\"\n",
    "instruct = \"用户指令:\"\n",
    "instruct += \"设置灯光色温为5000w\"\n",
    "\n",
    "# 定义用户输入内容\n",
    "messages = [\n",
    "    {\"role\": \"system\", \"content\": input_prompt},  # 系统提示\n",
    "    {\"role\": \"user\", \"content\": instruct}  # 用户输入\n",
    "]\n",
    "\n",
    "print(messages)\n",
    "\n",
    "# 使用 apply_chat_template 构造输入\n",
    "inputs = tokenizer.apply_chat_template(\n",
    "    conversation=messages,\n",
    "    add_generation_prompt=True,  # 添加生成提示\n",
    "    tokenize=True,\n",
    "    return_tensors=\"pt\",\n",
    "    return_dict=True\n",
    ").to(\"cuda\")\n",
    "\n",
    "# 打印生成的输入\n",
    "#print(\"构造的输入：\", inputs)\n",
    "\n",
    "# 定义生成参数\n",
    "gen_kwargs = {\n",
    "    \"max_length\": 256,\n",
    "    \"do_sample\": True,\n",
    "    \"top_k\": 50,\n",
    "    \"top_p\": 0.9,\n",
    "    \"temperature\": 0.2\n",
    "}\n",
    "\n",
    "# 生成模型输出\n",
    "with torch.no_grad():\n",
    "    outputs = model.generate(**inputs, **gen_kwargs)\n",
    "    outputs = outputs[:, inputs['input_ids'].shape[1]:]  # 去掉输入部分的 token\n",
    "\n",
    "    # 打印用户输入\n",
    "    print(\"\\n用户输入:\")\n",
    "    print(messages[-1][\"content\"])\n",
    "    print(\"\\n\")\n",
    "\n",
    "    # 打印模型输出\n",
    "    print(\"模型输出:<think>\")\n",
    "    for token_id in outputs[0]:\n",
    "        print(tokenizer.decode([token_id], skip_special_tokens=True), end='', flush=True)\n",
    "    print(\"\\n\")"
   ]
  }
 ],
 "metadata": {
  "kernelspec": {
   "display_name": "unsloth-env",
   "language": "python",
   "name": "python3"
  },
  "language_info": {
   "codemirror_mode": {
    "name": "ipython",
    "version": 3
   },
   "file_extension": ".py",
   "mimetype": "text/x-python",
   "name": "python",
   "nbconvert_exporter": "python",
   "pygments_lexer": "ipython3",
   "version": "3.10.0"
  }
 },
 "nbformat": 4,
 "nbformat_minor": 5
}
